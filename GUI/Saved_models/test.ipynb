{
 "cells": [
  {
   "cell_type": "code",
   "execution_count": 5,
   "metadata": {},
   "outputs": [
    {
     "name": "stdout",
     "output_type": "stream",
     "text": [
      "Data updated successfully!\n"
     ]
    }
   ],
   "source": [
    "import pickle\n",
    "\n",
    "# Step 1: Read the pickle file\n",
    "with open('clarans_5_5_30.pkl', 'rb') as file:\n",
    "    data = pickle.load(file)  # Load the data\n",
    "\n",
    "# Step 2: Modify the data\n",
    "# Example: If the data is a dictionary, you can update a key-value pair\n",
    "if isinstance(data, dict):\n",
    "    data['model_name'] = 'CLARANS'\n",
    "\n",
    "# Example: If the data is a list, you can append an item\n",
    "if isinstance(data, list):\n",
    "    data.append('new_item')\n",
    "\n",
    "# Step 3: Save the modified data back to the pickle file\n",
    "with open('clarans_5_5_30.pkl', 'wb') as file:\n",
    "    pickle.dump(data, file)\n",
    "\n",
    "print(\"Data updated successfully!\")"
   ]
  },
  {
   "cell_type": "code",
   "execution_count": 15,
   "metadata": {},
   "outputs": [],
   "source": [
    "import numpy as np\n",
    "\n",
    "class Node:\n",
    "    def __init__(self, feature=None, threshold=None, left=None, right=None, value=None):\n",
    "        self.feature=feature  \n",
    "        self.threshold=threshold  \n",
    "        self.left=left  \n",
    "        self.right=right  \n",
    "        self.value=value  \n",
    "\n",
    "    def is_leaf_node(self):\n",
    "        return self.value is not None\n",
    "\n",
    "class DecisionTree:\n",
    "    def __init__(self, min_samples_split=2, max_depth=100, n_features=None):\n",
    "        self.min_samples_split=min_samples_split\n",
    "        self.max_depth=max_depth\n",
    "        self.n_features=n_features\n",
    "        self.root=None\n",
    "\n",
    "    def fit(self, X, y):\n",
    "        X=np.array(X)\n",
    "        y=np.array(y)\n",
    "        self.n_features=X.shape[1] if not self.n_features else min(X.shape[1], self.n_features)\n",
    "        self.root=self._grow_tree(X, y)\n",
    "\n",
    "    def _grow_tree(self, X, y, depth=0):\n",
    "        n_samples, n_feats=X.shape        \n",
    "        if depth >= self.max_depth or n_samples < self.min_samples_split:\n",
    "            leaf_value=self._most_common_label(y)\n",
    "            return Node(value=leaf_value)\n",
    "\n",
    "        feat_idxs=np.random.choice(n_feats, self.n_features, replace=False)        \n",
    "        best_feature, best_thresh=self._best_split(X, y, feat_idxs)\n",
    "\n",
    "        if best_feature is None:\n",
    "            leaf_value=self._most_common_label(y)\n",
    "            return Node(value=leaf_value)\n",
    "        \n",
    "        left_idxs, right_idxs=self._split(X[:, best_feature], best_thresh)\n",
    "        left=self._grow_tree(X[left_idxs, :], y[left_idxs], depth + 1)\n",
    "        right=self._grow_tree(X[right_idxs, :], y[right_idxs], depth + 1)\n",
    "        return Node(best_feature, best_thresh, left, right)\n",
    "\n",
    "    def _best_split(self, X, y, feat_idxs):\n",
    "        best_gain=-1\n",
    "        split_idx, split_threshold=None, None\n",
    "\n",
    "        for feat_idx in feat_idxs:\n",
    "            X_column=X[:, feat_idx]\n",
    "            thresholds=np.unique(X_column)\n",
    "\n",
    "            for thr in thresholds:                \n",
    "                gain=self._variance_reduction(y, X_column, thr)\n",
    "\n",
    "                if gain > best_gain:\n",
    "                    best_gain=gain\n",
    "                    split_idx=feat_idx\n",
    "                    split_threshold=thr\n",
    "\n",
    "        return split_idx, split_threshold\n",
    "\n",
    "    def _variance_reduction(self, y, X_column, threshold):        \n",
    "        parent_variance=np.var(y)\n",
    "        \n",
    "        left_idxs, right_idxs=self._split(X_column, threshold)\n",
    "\n",
    "        if len(left_idxs) == 0 or len(right_idxs) == 0:\n",
    "            return 0\n",
    "        \n",
    "        n=len(y)\n",
    "        n_l, n_r=len(left_idxs), len(right_idxs)\n",
    "        var_l, var_r=np.var(y[left_idxs]), np.var(y[right_idxs])\n",
    "        weighted_variance=(n_l / n) * var_l + (n_r / n) * var_r\n",
    "        \n",
    "        variance_reduction=parent_variance - weighted_variance\n",
    "        return variance_reduction\n",
    "\n",
    "    def _split(self, X_column, split_thresh):\n",
    "        left_idxs=np.argwhere(X_column <= split_thresh).flatten()\n",
    "        right_idxs=np.argwhere(X_column > split_thresh).flatten()\n",
    "        return left_idxs, right_idxs\n",
    "\n",
    "    def _most_common_label(self, y):        \n",
    "        return np.mean(y)\n",
    "\n",
    "    def predict(self, X):\n",
    "        X=np.array(X)\n",
    "        return np.array([self._traverse_tree(x, self.root) for x in X])\n",
    "\n",
    "    def _traverse_tree(self, x, node):\n",
    "        if node.is_leaf_node():\n",
    "            return node.value\n",
    "\n",
    "        if x[node.feature] <= node.threshold:\n",
    "            return self._traverse_tree(x, node.left)\n",
    "        return self._traverse_tree(x, node.right)\n"
   ]
  },
  {
   "cell_type": "code",
   "execution_count": 16,
   "metadata": {},
   "outputs": [
    {
     "ename": "ModuleNotFoundError",
     "evalue": "No module named 'Decision_Tree'",
     "output_type": "error",
     "traceback": [
      "\u001b[0;31m---------------------------------------------------------------------------\u001b[0m",
      "\u001b[0;31mModuleNotFoundError\u001b[0m                       Traceback (most recent call last)",
      "Cell \u001b[0;32mIn[16], line 2\u001b[0m\n\u001b[1;32m      1\u001b[0m \u001b[38;5;28;01mwith\u001b[39;00m \u001b[38;5;28mopen\u001b[39m(\u001b[38;5;124m'\u001b[39m\u001b[38;5;124mdecision_tree_5_100.pkl\u001b[39m\u001b[38;5;124m'\u001b[39m, \u001b[38;5;124m'\u001b[39m\u001b[38;5;124mrb\u001b[39m\u001b[38;5;124m'\u001b[39m) \u001b[38;5;28;01mas\u001b[39;00m file:\n\u001b[0;32m----> 2\u001b[0m     data \u001b[38;5;241m=\u001b[39m \u001b[43mpickle\u001b[49m\u001b[38;5;241;43m.\u001b[39;49m\u001b[43mload\u001b[49m\u001b[43m(\u001b[49m\u001b[43mfile\u001b[49m\u001b[43m)\u001b[49m  \u001b[38;5;66;03m# Load the data\u001b[39;00m\n\u001b[1;32m      4\u001b[0m data\n",
      "\u001b[0;31mModuleNotFoundError\u001b[0m: No module named 'Decision_Tree'"
     ]
    }
   ],
   "source": [
    "with open('decision_tree_5_100.pkl', 'rb') as file:\n",
    "    data = pickle.load(file)  # Load the data\n",
    "    \n",
    "data"
   ]
  },
  {
   "cell_type": "code",
   "execution_count": null,
   "metadata": {},
   "outputs": [],
   "source": []
  }
 ],
 "metadata": {
  "kernelspec": {
   "display_name": "DM",
   "language": "python",
   "name": "python3"
  },
  "language_info": {
   "codemirror_mode": {
    "name": "ipython",
    "version": 3
   },
   "file_extension": ".py",
   "mimetype": "text/x-python",
   "name": "python",
   "nbconvert_exporter": "python",
   "pygments_lexer": "ipython3",
   "version": "3.10.16"
  }
 },
 "nbformat": 4,
 "nbformat_minor": 2
}
